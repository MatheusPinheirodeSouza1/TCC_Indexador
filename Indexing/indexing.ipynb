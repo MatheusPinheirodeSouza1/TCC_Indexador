{
 "cells": [
  {
   "cell_type": "markdown",
   "id": "0923a63b",
   "metadata": {},
   "source": [
    "### Consulta com expressão regular"
   ]
  },
  {
   "cell_type": "code",
   "execution_count": 1,
   "id": "ee2fb6cb",
   "metadata": {},
   "outputs": [],
   "source": [
    "from google.cloud import bigquery\n",
    "import os  \n",
    "from os.path import join\n",
    "import re\n",
    "import xml.etree.cElementTree as ET\n",
    "import requests;\n",
    "import time\n",
    "\n",
    "base_url = \"https://api.stackexchange.com\";\n",
    "exception = \"Exception\";\n",
    "repostioryName = \"../../Dataset_crashanalysis/Github_issues\";\n",
    "files_folders = [];\n",
    "current_folder = \"\";\n",
    "expression = re.compile('([A-Za-z.]+(Error|Exception|Iteration)([^\\n]*))');"
   ]
  },
  {
   "cell_type": "markdown",
   "id": "96f73464",
   "metadata": {},
   "source": [
    "### Obtém diretorios"
   ]
  },
  {
   "cell_type": "code",
   "execution_count": 2,
   "id": "6f8ac832",
   "metadata": {},
   "outputs": [],
   "source": [
    "folders = [name for name in os.listdir(repostioryName)];\n",
    "folders= sorted(folders, key=str.lower, reverse=True);\n",
    "def get_next_folder():\n",
    "    return folders.pop();"
   ]
  },
  {
   "cell_type": "markdown",
   "id": "cb59e1d0",
   "metadata": {},
   "source": [
    "### Obtém arquivos"
   ]
  },
  {
   "cell_type": "code",
   "execution_count": 3,
   "id": "a668760b",
   "metadata": {},
   "outputs": [],
   "source": [
    "def get_next_file():\n",
    "    global files_folders;\n",
    "    global current_folder;\n",
    "    \n",
    "    if len(files_folders) <= 0:\n",
    "        current_folder = get_next_folder();\n",
    "        files_folders = [name for name in os.listdir(join(repostioryName, current_folder))];\n",
    "        files_folders = sorted(files_folders, key=str.lower, reverse=True);\n",
    "    \n",
    "    if not files_folders:\n",
    "        return None;\n",
    "    \n",
    "    return join(repostioryName, current_folder, files_folders.pop());"
   ]
  },
  {
   "cell_type": "markdown",
   "id": "d9eb71c1",
   "metadata": {},
   "source": [
    "### Adiciona elemento ao xml"
   ]
  },
  {
   "cell_type": "code",
   "execution_count": 4,
   "id": "7fd950f4",
   "metadata": {},
   "outputs": [],
   "source": [
    "def add_element(xml, fileName, request, response):\n",
    "    doc = ET.SubElement(xml, \"doc\");\n",
    "    ET.SubElement(doc, \"field\", name=\"Exception_Parse\").text = request;\n",
    "    ET.SubElement(doc, \"field\", name=\"Title\").text = response['title'];\n",
    "    ET.SubElement(doc, \"field\", name=\"Score\").text = str(response['score']);\n",
    "    ET.SubElement(doc, \"field\", name=\"View_Count\").text = str(response['view_count']);\n",
    "    ET.SubElement(doc, \"field\", name=\"Post_Link\").text = response['link'];\n",
    "    ET.SubElement(doc, \"field\", name=\"StackTrace_Path\").text = fileName;"
   ]
  },
  {
   "cell_type": "markdown",
   "id": "07cec8f4",
   "metadata": {},
   "source": [
    "### Busca das respostas"
   ]
  },
  {
   "cell_type": "code",
   "execution_count": 5,
   "id": "f4b8eced",
   "metadata": {},
   "outputs": [],
   "source": [
    "def search(xml, fileName, exeptions):\n",
    "    for exeption in exeptions:\n",
    "        url = f\"https://api.stackexchange.com/2.3/search/advanced?order=desc&sort=votes&q={exeption}&site=stackoverflow\";\n",
    "        response = requests.get(url);\n",
    "        data = response.json();\n",
    "        \n",
    "        if 'error_id' in data:\n",
    "            print(data);\n",
    "            return None;\n",
    "        \n",
    "        else:\n",
    "            items = [k for k in data['items'] if ('java' or 'android' in k['tags']) and (k['is_answered'] == True) and (k['score'] > 0)];\n",
    "            for item in items:\n",
    "                add_element(xml, fileName, exeption, item);"
   ]
  },
  {
   "cell_type": "markdown",
   "id": "e55657ab",
   "metadata": {},
   "source": [
    "### Salva xml"
   ]
  },
  {
   "cell_type": "code",
   "execution_count": 6,
   "id": "b6eaa331",
   "metadata": {},
   "outputs": [],
   "source": [
    "def save(xml, xmlCount):\n",
    "    tree = ET.ElementTree(xml);\n",
    "    tree.write(f\"../xml/output-{xmlCount}.xml\");"
   ]
  },
  {
   "cell_type": "markdown",
   "id": "01e8bff4",
   "metadata": {},
   "source": [
    "### Trata com expressão regular"
   ]
  },
  {
   "cell_type": "code",
   "execution_count": 7,
   "id": "e787f77c",
   "metadata": {},
   "outputs": [
    {
     "name": "stdout",
     "output_type": "stream",
     "text": [
      "{'error_id': 502, 'error_message': 'too many requests from this IP, more requests available in 82472 seconds', 'error_name': 'throttle_violation'}\n"
     ]
    }
   ],
   "source": [
    "fileName = get_next_file();\n",
    "count = 0;\n",
    "xml = ET.Element(\"add\");\n",
    "xmlCount = 0;\n",
    "while fileName != None:\n",
    "    f = open(fileName, \"r\")\n",
    "    text = f.read();\n",
    "    result = expression.findall(text);\n",
    "    exeptions = [re.sub('\\'.*?\\' ','',item[0], flags=re.DOTALL) for item in result];\n",
    "    result = search(xml, fileName, exeptions);\n",
    "    \n",
    "    if result is None:\n",
    "        break;\n",
    "        \n",
    "    fileName = get_next_file();\n",
    "    count += 1;\n",
    "    \n",
    "    if count == 10:\n",
    "        xmlCount += 1;\n",
    "        save(xml, xmlCount);\n",
    "        xml = ET.Element(\"add\");\n",
    "        count = 0;\n",
    "    \n",
    "    # Necessário o sleep para não bloquear as requisições.\n",
    "    time.sleep(30);"
   ]
  },
  {
   "cell_type": "markdown",
   "id": "ea7fd212",
   "metadata": {},
   "source": [
    "### Salva XML"
   ]
  },
  {
   "cell_type": "code",
   "execution_count": 8,
   "id": "32433477",
   "metadata": {},
   "outputs": [],
   "source": [
    "if count > 0:\n",
    "    xmlCount += 1;\n",
    "    save(xml, count);"
   ]
  },
  {
   "cell_type": "code",
   "execution_count": null,
   "id": "180f3537",
   "metadata": {},
   "outputs": [],
   "source": []
  },
  {
   "cell_type": "code",
   "execution_count": null,
   "id": "dcec1fe8",
   "metadata": {},
   "outputs": [],
   "source": []
  }
 ],
 "metadata": {
  "kernelspec": {
   "display_name": "Python 3",
   "language": "python",
   "name": "python3"
  },
  "language_info": {
   "codemirror_mode": {
    "name": "ipython",
    "version": 3
   },
   "file_extension": ".py",
   "mimetype": "text/x-python",
   "name": "python",
   "nbconvert_exporter": "python",
   "pygments_lexer": "ipython3",
   "version": "3.8.10"
  }
 },
 "nbformat": 4,
 "nbformat_minor": 5
}
