{
 "cells": [
  {
   "cell_type": "markdown",
   "id": "0923a63b",
   "metadata": {},
   "source": [
    "### Consulta com expressão regular"
   ]
  },
  {
   "cell_type": "code",
   "execution_count": 1,
   "id": "ee2fb6cb",
   "metadata": {},
   "outputs": [],
   "source": [
    "from google.cloud import bigquery\n",
    "import os  \n",
    "from os.path import join\n",
    "import re\n",
    "import xml.etree.cElementTree as ET\n",
    "import requests;\n",
    "\n",
    "os.environ['GOOGLE_APPLICATION_CREDENTIALS'] = \"StackOverflowKey.json\"\n",
    "dataset_id = \"bigquery-public-data.stackoverflow\";\n",
    "exception = \"Exception\";\n",
    "\n",
    "repostioryName = \"../../Dataset_crashanalysis/Github_issues\";\n",
    "files_folders = [];\n",
    "current_folder = \"\";\n",
    "expression = re.compile('([A-Za-z.]+(Error|Exception|Iteration)([^\\n]*))');\n",
    "add = ET.Element(\"add\");"
   ]
  },
  {
   "cell_type": "markdown",
   "id": "4bf4e029",
   "metadata": {},
   "source": [
    "### Tabelas"
   ]
  },
  {
   "cell_type": "code",
   "execution_count": 2,
   "id": "62d84c4b",
   "metadata": {},
   "outputs": [
    {
     "name": "stdout",
     "output_type": "stream",
     "text": [
      "badges\n",
      "comments\n",
      "post_history\n",
      "post_links\n",
      "posts_answers\n",
      "posts_moderator_nomination\n",
      "posts_orphaned_tag_wiki\n",
      "posts_privilege_wiki\n",
      "posts_questions\n",
      "posts_tag_wiki\n",
      "posts_tag_wiki_excerpt\n",
      "posts_wiki_placeholder\n",
      "stackoverflow_posts\n",
      "tags\n",
      "users\n",
      "votes\n"
     ]
    }
   ],
   "source": [
    "client = bigquery.Client()\n",
    "tables = client.list_tables(dataset_id)\n",
    "\n",
    "for table in tables:\n",
    "    print(\"{}\".format(table.table_id))"
   ]
  },
  {
   "cell_type": "markdown",
   "id": "96f73464",
   "metadata": {},
   "source": [
    "### Obtém diretorios"
   ]
  },
  {
   "cell_type": "code",
   "execution_count": 3,
   "id": "6f8ac832",
   "metadata": {},
   "outputs": [],
   "source": [
    "folders = [name for name in os.listdir(repostioryName)];\n",
    "folders= sorted(folders, key=str.lower, reverse=True);\n",
    "def get_next_folder():\n",
    "    return folders.pop();"
   ]
  },
  {
   "cell_type": "markdown",
   "id": "cb59e1d0",
   "metadata": {},
   "source": [
    "### Obtém arquivos"
   ]
  },
  {
   "cell_type": "code",
   "execution_count": 4,
   "id": "a668760b",
   "metadata": {},
   "outputs": [],
   "source": [
    "def get_next_file():\n",
    "    global files_folders;\n",
    "    global current_folder;\n",
    "    \n",
    "    if len(files_folders) <= 0:\n",
    "        current_folder = get_next_folder();\n",
    "        files_folders = [name for name in os.listdir(join(repostioryName, current_folder))];\n",
    "        files_folders = sorted(files_folders, key=str.lower, reverse=True);\n",
    "        \n",
    "    return join(repostioryName, current_folder, files_folders.pop());"
   ]
  },
  {
   "cell_type": "markdown",
   "id": "d9eb71c1",
   "metadata": {},
   "source": [
    "### Adiciona elemento ao xml"
   ]
  },
  {
   "cell_type": "code",
   "execution_count": 5,
   "id": "7fd950f4",
   "metadata": {},
   "outputs": [],
   "source": [
    "def add_element(request, response):\n",
    "    doc = ET.SubElement(add, \"doc\");\n",
    "    ET.SubElement(doc, \"field\", name=\"Exception_Parse\").text = request;\n",
    "    ET.SubElement(doc, \"field\", name=\"Post_link\").text = response.accepted_answer_id;"
   ]
  },
  {
   "cell_type": "markdown",
   "id": "07cec8f4",
   "metadata": {},
   "source": [
    "### Busca das respostas"
   ]
  },
  {
   "cell_type": "code",
   "execution_count": 6,
   "id": "f4b8eced",
   "metadata": {},
   "outputs": [],
   "source": [
    "def search(exeptions):\n",
    "    for exeption in exeptions:\n",
    "        query_job = client.query(\n",
    "          f\"\"\"\n",
    "          SELECT\n",
    "            *\n",
    "          FROM `{dataset_id}.posts_questions`\n",
    "          WHERE (tags like '%android%' or tags like '%java%') and (body like '%{exception}%' or title like '%{exception}%') and accepted_answer_id > 0\n",
    "          ORDER BY score DESC\n",
    "          LIMIT 5\"\"\"\n",
    "        );\n",
    "        data = query_job.result();\n",
    "        for item in data:\n",
    "            add_element(exeption, item);"
   ]
  },
  {
   "cell_type": "markdown",
   "id": "01e8bff4",
   "metadata": {},
   "source": [
    "### Trata com expressão regular"
   ]
  },
  {
   "cell_type": "code",
   "execution_count": 7,
   "id": "e787f77c",
   "metadata": {},
   "outputs": [],
   "source": [
    "fileName = get_next_file();\n",
    "count = 0;\n",
    "while fileName and count < 1:\n",
    "    f = open(fileName, \"r\")\n",
    "    text = f.read();\n",
    "    result = expression.findall(text);\n",
    "    exeptions = [re.sub('\\'.*?\\' ','',item[0], flags=re.DOTALL) for item in result];\n",
    "    search(exeptions);\n",
    "    fileName = get_next_file();\n",
    "    count += 1;\n",
    "    print(count);"
   ]
  },
  {
   "cell_type": "markdown",
   "id": "ea7fd212",
   "metadata": {},
   "source": [
    "### Salva XML"
   ]
  },
  {
   "cell_type": "code",
   "execution_count": 8,
   "id": "32433477",
   "metadata": {},
   "outputs": [],
   "source": [
    "tree = ET.ElementTree(add);\n",
    "tree.write(\"../output.xml\");"
   ]
  },
  {
   "cell_type": "code",
   "execution_count": null,
   "id": "e3a37180",
   "metadata": {},
   "outputs": [],
   "source": []
  }
 ],
 "metadata": {
  "kernelspec": {
   "display_name": "Python 3",
   "language": "python",
   "name": "python3"
  },
  "language_info": {
   "codemirror_mode": {
    "name": "ipython",
    "version": 3
   },
   "file_extension": ".py",
   "mimetype": "text/x-python",
   "name": "python",
   "nbconvert_exporter": "python",
   "pygments_lexer": "ipython3",
   "version": "3.8.10"
  }
 },
 "nbformat": 4,
 "nbformat_minor": 5
}
