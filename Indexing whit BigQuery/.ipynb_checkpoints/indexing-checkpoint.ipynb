{
 "cells": [
  {
   "cell_type": "markdown",
   "id": "0923a63b",
   "metadata": {},
   "source": [
    "### Consulta com expressão regular"
   ]
  },
  {
   "cell_type": "code",
   "execution_count": 1,
   "id": "ee2fb6cb",
   "metadata": {},
   "outputs": [],
   "source": [
    "from google.cloud import bigquery\n",
    "import os  \n",
    "from os.path import join\n",
    "import re\n",
    "import xml.etree.cElementTree as ET\n",
    "import requests;\n",
    "\n",
    "os.environ['GOOGLE_APPLICATION_CREDENTIALS'] = \"StackOverflowKey.json\"\n",
    "dataset_id = \"bigquery-public-data.stackoverflow\";\n",
    "\n",
    "repostioryName = \"../../Dataset_crashanalysis/Github_issues\";\n",
    "files_folders = [];\n",
    "current_folder = \"\";\n",
    "expression = re.compile('([A-Za-z.]+(Error|Exception|Iteration)([^\\n]*))');\n",
    "add = ET.Element(\"add\");"
   ]
  },
  {
   "cell_type": "markdown",
   "id": "a8c35cdd",
   "metadata": {},
   "source": [
    "### Tabelas"
   ]
  },
  {
   "cell_type": "code",
   "execution_count": 2,
   "id": "e45523a4",
   "metadata": {},
   "outputs": [
    {
     "name": "stdout",
     "output_type": "stream",
     "text": [
      "badges\n",
      "comments\n",
      "post_history\n",
      "post_links\n",
      "posts_answers\n",
      "posts_moderator_nomination\n",
      "posts_orphaned_tag_wiki\n",
      "posts_privilege_wiki\n",
      "posts_questions\n",
      "posts_tag_wiki\n",
      "posts_tag_wiki_excerpt\n",
      "posts_wiki_placeholder\n",
      "stackoverflow_posts\n",
      "tags\n",
      "users\n",
      "votes\n"
     ]
    }
   ],
   "source": [
    "client = bigquery.Client()\n",
    "tables = client.list_tables(dataset_id)\n",
    "\n",
    "for table in tables:\n",
    "    print(\"{}\".format(table.table_id))"
   ]
  },
  {
   "cell_type": "markdown",
   "id": "96f73464",
   "metadata": {},
   "source": [
    "### Obtém diretorios"
   ]
  },
  {
   "cell_type": "code",
   "execution_count": 3,
   "id": "6f8ac832",
   "metadata": {},
   "outputs": [],
   "source": [
    "folders = [name for name in os.listdir(repostioryName)];\n",
    "folders= sorted(folders, key=str.lower, reverse=True);\n",
    "def get_next_folder():\n",
    "    return folders.pop();"
   ]
  },
  {
   "cell_type": "markdown",
   "id": "cb59e1d0",
   "metadata": {},
   "source": [
    "### Obtém arquivos"
   ]
  },
  {
   "cell_type": "code",
   "execution_count": 4,
   "id": "a668760b",
   "metadata": {},
   "outputs": [],
   "source": [
    "def get_next_file():\n",
    "    global files_folders;\n",
    "    global current_folder;\n",
    "    \n",
    "    if len(files_folders) <= 0:\n",
    "        current_folder = get_next_folder();\n",
    "        files_folders = [name for name in os.listdir(join(repostioryName, current_folder))];\n",
    "        files_folders = sorted(files_folders, key=str.lower, reverse=True);\n",
    "        \n",
    "    return join(repostioryName, current_folder, files_folders.pop());"
   ]
  },
  {
   "cell_type": "markdown",
   "id": "d9eb71c1",
   "metadata": {},
   "source": [
    "### Adiciona elemento ao xml"
   ]
  },
  {
   "cell_type": "code",
   "execution_count": 5,
   "id": "7fd950f4",
   "metadata": {},
   "outputs": [],
   "source": [
    "def add_element(request, response):\n",
    "    doc = ET.SubElement(add, \"doc\");\n",
    "    ET.SubElement(doc, \"field\", name=\"Exception_Parse\").text = request;\n",
    "    ET.SubElement(doc, \"field\", name=\"Post_link\").text = str(response.accepted_answer_id);"
   ]
  },
  {
   "cell_type": "markdown",
   "id": "07cec8f4",
   "metadata": {},
   "source": [
    "### Busca das respostas"
   ]
  },
  {
   "cell_type": "code",
   "execution_count": 6,
   "id": "f4b8eced",
   "metadata": {},
   "outputs": [],
   "source": [
    "def search(exeptions):\n",
    "    for exception in exeptions:\n",
    "        query_job = client.query(\n",
    "          f\"\"\"\n",
    "          SELECT\n",
    "            *\n",
    "          FROM `{dataset_id}.posts_questions`\n",
    "          WHERE (tags like '%android%' or tags like '%java%') and (body like \"%{exception}%\" or title like \"%{exception}%\") and accepted_answer_id > 0\n",
    "          ORDER BY score DESC\n",
    "          LIMIT 5\"\"\"\n",
    "        );\n",
    "        data = query_job.result();\n",
    "        for item in data:\n",
    "            add_element(exception, item);"
   ]
  },
  {
   "cell_type": "markdown",
   "id": "01e8bff4",
   "metadata": {},
   "source": [
    "### Trata com expressão regular"
   ]
  },
  {
   "cell_type": "code",
   "execution_count": 7,
   "id": "e787f77c",
   "metadata": {},
   "outputs": [
    {
     "name": "stdout",
     "output_type": "stream",
     "text": [
      "1\n",
      "2\n"
     ]
    },
    {
     "ename": "Forbidden",
     "evalue": "403 Quota exceeded: Your project exceeded quota for free query bytes scanned. For more information, see https://cloud.google.com/bigquery/docs/troubleshoot-quotas\n\n(job ID: b7102725-57f9-4925-a74e-98d2ae467777)\n\n                                                                                 -----Query Job SQL Follows-----                                                                                 \n\n    |    .    |    .    |    .    |    .    |    .    |    .    |    .    |    .    |    .    |    .    |    .    |    .    |    .    |    .    |    .    |    .    |    .    |    .    |\n   1:\n   2:          SELECT\n   3:            *\n   4:          FROM `bigquery-public-data.stackoverflow.posts_questions`\n   5:          WHERE (tags like '%android%' or tags like '%java%') and (body like \"%java.lang.NullPointerException%\" or title like \"%java.lang.NullPointerException%\") and accepted_answer_id > 0\n   6:          ORDER BY score DESC\n   7:          LIMIT 5\n    |    .    |    .    |    .    |    .    |    .    |    .    |    .    |    .    |    .    |    .    |    .    |    .    |    .    |    .    |    .    |    .    |    .    |    .    |",
     "output_type": "error",
     "traceback": [
      "\u001b[0;31m---------------------------------------------------------------------------\u001b[0m",
      "\u001b[0;31mForbidden\u001b[0m                                 Traceback (most recent call last)",
      "\u001b[0;32m<ipython-input-7-4eecefff5fcf>\u001b[0m in \u001b[0;36m<module>\u001b[0;34m\u001b[0m\n\u001b[1;32m      6\u001b[0m     \u001b[0mresult\u001b[0m \u001b[0;34m=\u001b[0m \u001b[0mexpression\u001b[0m\u001b[0;34m.\u001b[0m\u001b[0mfindall\u001b[0m\u001b[0;34m(\u001b[0m\u001b[0mtext\u001b[0m\u001b[0;34m)\u001b[0m\u001b[0;34m;\u001b[0m\u001b[0;34m\u001b[0m\u001b[0;34m\u001b[0m\u001b[0m\n\u001b[1;32m      7\u001b[0m     \u001b[0mexeptions\u001b[0m \u001b[0;34m=\u001b[0m \u001b[0;34m[\u001b[0m\u001b[0mre\u001b[0m\u001b[0;34m.\u001b[0m\u001b[0msub\u001b[0m\u001b[0;34m(\u001b[0m\u001b[0;34m'\\'.*?\\' '\u001b[0m\u001b[0;34m,\u001b[0m\u001b[0;34m''\u001b[0m\u001b[0;34m,\u001b[0m\u001b[0mitem\u001b[0m\u001b[0;34m[\u001b[0m\u001b[0;36m0\u001b[0m\u001b[0;34m]\u001b[0m\u001b[0;34m,\u001b[0m \u001b[0mflags\u001b[0m\u001b[0;34m=\u001b[0m\u001b[0mre\u001b[0m\u001b[0;34m.\u001b[0m\u001b[0mDOTALL\u001b[0m\u001b[0;34m)\u001b[0m \u001b[0;32mfor\u001b[0m \u001b[0mitem\u001b[0m \u001b[0;32min\u001b[0m \u001b[0mresult\u001b[0m\u001b[0;34m]\u001b[0m\u001b[0;34m;\u001b[0m\u001b[0;34m\u001b[0m\u001b[0;34m\u001b[0m\u001b[0m\n\u001b[0;32m----> 8\u001b[0;31m     \u001b[0msearch\u001b[0m\u001b[0;34m(\u001b[0m\u001b[0mexeptions\u001b[0m\u001b[0;34m)\u001b[0m\u001b[0;34m;\u001b[0m\u001b[0;34m\u001b[0m\u001b[0;34m\u001b[0m\u001b[0m\n\u001b[0m\u001b[1;32m      9\u001b[0m     \u001b[0mfileName\u001b[0m \u001b[0;34m=\u001b[0m \u001b[0mget_next_file\u001b[0m\u001b[0;34m(\u001b[0m\u001b[0;34m)\u001b[0m\u001b[0;34m;\u001b[0m\u001b[0;34m\u001b[0m\u001b[0;34m\u001b[0m\u001b[0m\n\u001b[1;32m     10\u001b[0m     \u001b[0mcount\u001b[0m \u001b[0;34m+=\u001b[0m \u001b[0;36m1\u001b[0m\u001b[0;34m;\u001b[0m\u001b[0;34m\u001b[0m\u001b[0;34m\u001b[0m\u001b[0m\n",
      "\u001b[0;32m<ipython-input-6-aa1de71cf89d>\u001b[0m in \u001b[0;36msearch\u001b[0;34m(exeptions)\u001b[0m\n\u001b[1;32m     10\u001b[0m           LIMIT 5\"\"\"\n\u001b[1;32m     11\u001b[0m         );\n\u001b[0;32m---> 12\u001b[0;31m         \u001b[0mdata\u001b[0m \u001b[0;34m=\u001b[0m \u001b[0mquery_job\u001b[0m\u001b[0;34m.\u001b[0m\u001b[0mresult\u001b[0m\u001b[0;34m(\u001b[0m\u001b[0;34m)\u001b[0m\u001b[0;34m;\u001b[0m\u001b[0;34m\u001b[0m\u001b[0;34m\u001b[0m\u001b[0m\n\u001b[0m\u001b[1;32m     13\u001b[0m         \u001b[0;32mfor\u001b[0m \u001b[0mitem\u001b[0m \u001b[0;32min\u001b[0m \u001b[0mdata\u001b[0m\u001b[0;34m:\u001b[0m\u001b[0;34m\u001b[0m\u001b[0;34m\u001b[0m\u001b[0m\n\u001b[1;32m     14\u001b[0m             \u001b[0madd_element\u001b[0m\u001b[0;34m(\u001b[0m\u001b[0mexception\u001b[0m\u001b[0;34m,\u001b[0m \u001b[0mitem\u001b[0m\u001b[0;34m)\u001b[0m\u001b[0;34m;\u001b[0m\u001b[0;34m\u001b[0m\u001b[0;34m\u001b[0m\u001b[0m\n",
      "\u001b[0;32m~/.local/lib/python3.8/site-packages/google/cloud/bigquery/job/query.py\u001b[0m in \u001b[0;36mresult\u001b[0;34m(self, page_size, max_results, retry, timeout, start_index)\u001b[0m\n\u001b[1;32m   1264\u001b[0m         \"\"\"\n\u001b[1;32m   1265\u001b[0m         \u001b[0;32mtry\u001b[0m\u001b[0;34m:\u001b[0m\u001b[0;34m\u001b[0m\u001b[0;34m\u001b[0m\u001b[0m\n\u001b[0;32m-> 1266\u001b[0;31m             \u001b[0msuper\u001b[0m\u001b[0;34m(\u001b[0m\u001b[0mQueryJob\u001b[0m\u001b[0;34m,\u001b[0m \u001b[0mself\u001b[0m\u001b[0;34m)\u001b[0m\u001b[0;34m.\u001b[0m\u001b[0mresult\u001b[0m\u001b[0;34m(\u001b[0m\u001b[0mretry\u001b[0m\u001b[0;34m=\u001b[0m\u001b[0mretry\u001b[0m\u001b[0;34m,\u001b[0m \u001b[0mtimeout\u001b[0m\u001b[0;34m=\u001b[0m\u001b[0mtimeout\u001b[0m\u001b[0;34m)\u001b[0m\u001b[0;34m\u001b[0m\u001b[0;34m\u001b[0m\u001b[0m\n\u001b[0m\u001b[1;32m   1267\u001b[0m \u001b[0;34m\u001b[0m\u001b[0m\n\u001b[1;32m   1268\u001b[0m             \u001b[0;31m# Since the job could already be \"done\" (e.g. got a finished job\u001b[0m\u001b[0;34m\u001b[0m\u001b[0;34m\u001b[0m\u001b[0;34m\u001b[0m\u001b[0m\n",
      "\u001b[0;32m~/.local/lib/python3.8/site-packages/google/cloud/bigquery/job/base.py\u001b[0m in \u001b[0;36mresult\u001b[0;34m(self, retry, timeout)\u001b[0m\n\u001b[1;32m    677\u001b[0m \u001b[0;34m\u001b[0m\u001b[0m\n\u001b[1;32m    678\u001b[0m         \u001b[0mkwargs\u001b[0m \u001b[0;34m=\u001b[0m \u001b[0;34m{\u001b[0m\u001b[0;34m}\u001b[0m \u001b[0;32mif\u001b[0m \u001b[0mretry\u001b[0m \u001b[0;32mis\u001b[0m \u001b[0mDEFAULT_RETRY\u001b[0m \u001b[0;32melse\u001b[0m \u001b[0;34m{\u001b[0m\u001b[0;34m\"retry\"\u001b[0m\u001b[0;34m:\u001b[0m \u001b[0mretry\u001b[0m\u001b[0;34m}\u001b[0m\u001b[0;34m\u001b[0m\u001b[0;34m\u001b[0m\u001b[0m\n\u001b[0;32m--> 679\u001b[0;31m         \u001b[0;32mreturn\u001b[0m \u001b[0msuper\u001b[0m\u001b[0;34m(\u001b[0m\u001b[0m_AsyncJob\u001b[0m\u001b[0;34m,\u001b[0m \u001b[0mself\u001b[0m\u001b[0;34m)\u001b[0m\u001b[0;34m.\u001b[0m\u001b[0mresult\u001b[0m\u001b[0;34m(\u001b[0m\u001b[0mtimeout\u001b[0m\u001b[0;34m=\u001b[0m\u001b[0mtimeout\u001b[0m\u001b[0;34m,\u001b[0m \u001b[0;34m**\u001b[0m\u001b[0mkwargs\u001b[0m\u001b[0;34m)\u001b[0m\u001b[0;34m\u001b[0m\u001b[0;34m\u001b[0m\u001b[0m\n\u001b[0m\u001b[1;32m    680\u001b[0m \u001b[0;34m\u001b[0m\u001b[0m\n\u001b[1;32m    681\u001b[0m     \u001b[0;32mdef\u001b[0m \u001b[0mcancelled\u001b[0m\u001b[0;34m(\u001b[0m\u001b[0mself\u001b[0m\u001b[0;34m)\u001b[0m\u001b[0;34m:\u001b[0m\u001b[0;34m\u001b[0m\u001b[0;34m\u001b[0m\u001b[0m\n",
      "\u001b[0;32m~/.local/lib/python3.8/site-packages/google/api_core/future/polling.py\u001b[0m in \u001b[0;36mresult\u001b[0;34m(self, timeout, retry)\u001b[0m\n\u001b[1;32m    132\u001b[0m             \u001b[0;31m# pylint: disable=raising-bad-type\u001b[0m\u001b[0;34m\u001b[0m\u001b[0;34m\u001b[0m\u001b[0;34m\u001b[0m\u001b[0m\n\u001b[1;32m    133\u001b[0m             \u001b[0;31m# Pylint doesn't recognize that this is valid in this case.\u001b[0m\u001b[0;34m\u001b[0m\u001b[0;34m\u001b[0m\u001b[0;34m\u001b[0m\u001b[0m\n\u001b[0;32m--> 134\u001b[0;31m             \u001b[0;32mraise\u001b[0m \u001b[0mself\u001b[0m\u001b[0;34m.\u001b[0m\u001b[0m_exception\u001b[0m\u001b[0;34m\u001b[0m\u001b[0;34m\u001b[0m\u001b[0m\n\u001b[0m\u001b[1;32m    135\u001b[0m \u001b[0;34m\u001b[0m\u001b[0m\n\u001b[1;32m    136\u001b[0m         \u001b[0;32mreturn\u001b[0m \u001b[0mself\u001b[0m\u001b[0;34m.\u001b[0m\u001b[0m_result\u001b[0m\u001b[0;34m\u001b[0m\u001b[0;34m\u001b[0m\u001b[0m\n",
      "\u001b[0;31mForbidden\u001b[0m: 403 Quota exceeded: Your project exceeded quota for free query bytes scanned. For more information, see https://cloud.google.com/bigquery/docs/troubleshoot-quotas\n\n(job ID: b7102725-57f9-4925-a74e-98d2ae467777)\n\n                                                                                 -----Query Job SQL Follows-----                                                                                 \n\n    |    .    |    .    |    .    |    .    |    .    |    .    |    .    |    .    |    .    |    .    |    .    |    .    |    .    |    .    |    .    |    .    |    .    |    .    |\n   1:\n   2:          SELECT\n   3:            *\n   4:          FROM `bigquery-public-data.stackoverflow.posts_questions`\n   5:          WHERE (tags like '%android%' or tags like '%java%') and (body like \"%java.lang.NullPointerException%\" or title like \"%java.lang.NullPointerException%\") and accepted_answer_id > 0\n   6:          ORDER BY score DESC\n   7:          LIMIT 5\n    |    .    |    .    |    .    |    .    |    .    |    .    |    .    |    .    |    .    |    .    |    .    |    .    |    .    |    .    |    .    |    .    |    .    |    .    |"
     ]
    }
   ],
   "source": [
    "fileName = get_next_file();\n",
    "count = 0;\n",
    "while fileName and count < 5:\n",
    "    f = open(fileName, \"r\")\n",
    "    text = f.read();\n",
    "    result = expression.findall(text);\n",
    "    exeptions = [re.sub('\\'.*?\\' ','',item[0], flags=re.DOTALL) for item in result];\n",
    "    search(exeptions);\n",
    "    fileName = get_next_file();\n",
    "    count += 1;\n",
    "    print(count);"
   ]
  },
  {
   "cell_type": "markdown",
   "id": "ea7fd212",
   "metadata": {},
   "source": [
    "### Salva XML"
   ]
  },
  {
   "cell_type": "code",
   "execution_count": null,
   "id": "32433477",
   "metadata": {},
   "outputs": [],
   "source": [
    "tree = ET.ElementTree(add);\n",
    "tree.write(\"../output.xml\");"
   ]
  },
  {
   "cell_type": "code",
   "execution_count": null,
   "id": "e3a37180",
   "metadata": {},
   "outputs": [],
   "source": []
  }
 ],
 "metadata": {
  "kernelspec": {
   "display_name": "Python 3",
   "language": "python",
   "name": "python3"
  },
  "language_info": {
   "codemirror_mode": {
    "name": "ipython",
    "version": 3
   },
   "file_extension": ".py",
   "mimetype": "text/x-python",
   "name": "python",
   "nbconvert_exporter": "python",
   "pygments_lexer": "ipython3",
   "version": "3.8.10"
  }
 },
 "nbformat": 4,
 "nbformat_minor": 5
}
